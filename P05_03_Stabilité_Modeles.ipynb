{
 "cells": [
  {
   "cell_type": "markdown",
   "id": "c7cfe78a",
   "metadata": {},
   "source": [
    "### Stabilité des modèles"
   ]
  },
  {
   "cell_type": "code",
   "execution_count": 1,
   "id": "69e397b8",
   "metadata": {},
   "outputs": [
    {
     "data": {
      "text/html": [
       "<style>.container { width:100% !important; }</style>"
      ],
      "text/plain": [
       "<IPython.core.display.HTML object>"
      ]
     },
     "metadata": {},
     "output_type": "display_data"
    }
   ],
   "source": [
    "import pandas as pd\n",
    "import seaborn as sns\n",
    "import matplotlib.pyplot as plt\n",
    "import numpy as np\n",
    "\n",
    "from sklearn.decomposition import PCA\n",
    "from sklearn.preprocessing import StandardScaler, OrdinalEncoder, OneHotEncoder\n",
    "from sklearn.model_selection import train_test_split, GridSearchCV\n",
    "from sklearn.pipeline import make_pipeline\n",
    "from sklearn.cluster import KMeans, AgglomerativeClustering\n",
    "from scipy.cluster.hierarchy import dendrogram\n",
    "from yellowbrick.cluster import SilhouetteVisualizer, InterclusterDistance, KElbowVisualizer\n",
    "from sklearn.metrics import silhouette_score, adjusted_rand_score\n",
    "from kmodes.kmodes import KModes\n",
    "from kmodes.kprototypes import KPrototypes\n",
    "\n",
    "from IPython.core.display import display, HTML\n",
    "display(HTML(\"<style>.container { width:100% !important; }</style>\"))"
   ]
  },
  {
   "cell_type": "code",
   "execution_count": 2,
   "id": "b05c6e15",
   "metadata": {},
   "outputs": [],
   "source": [
    "df = pd.read_csv(\n",
    "    r'C:\\Users\\Damien\\Desktop\\Data Scientist\\P5\\Dataset\\olist_stab.csv')"
   ]
  },
  {
   "cell_type": "code",
   "execution_count": 3,
   "id": "db679441",
   "metadata": {},
   "outputs": [
    {
     "data": {
      "text/html": [
       "<div>\n",
       "<style scoped>\n",
       "    .dataframe tbody tr th:only-of-type {\n",
       "        vertical-align: middle;\n",
       "    }\n",
       "\n",
       "    .dataframe tbody tr th {\n",
       "        vertical-align: top;\n",
       "    }\n",
       "\n",
       "    .dataframe thead th {\n",
       "        text-align: right;\n",
       "    }\n",
       "</style>\n",
       "<table border=\"1\" class=\"dataframe\">\n",
       "  <thead>\n",
       "    <tr style=\"text-align: right;\">\n",
       "      <th></th>\n",
       "      <th>product_id</th>\n",
       "      <th>payment_type</th>\n",
       "      <th>customer_unique_id</th>\n",
       "      <th>Recency</th>\n",
       "      <th>frequence_achat</th>\n",
       "      <th>dist_cust_seller</th>\n",
       "      <th>product_category_name_english</th>\n",
       "      <th>payment_value</th>\n",
       "      <th>review_score</th>\n",
       "      <th>delivery_time</th>\n",
       "      <th>...</th>\n",
       "      <th>Recency_t</th>\n",
       "      <th>Frequency_t</th>\n",
       "      <th>Monetary_t</th>\n",
       "      <th>model1_cluster</th>\n",
       "      <th>Delivery_log</th>\n",
       "      <th>Distance_log</th>\n",
       "      <th>Delivery_t</th>\n",
       "      <th>Distance_t</th>\n",
       "      <th>model2_cluster</th>\n",
       "      <th>model3_cluster</th>\n",
       "    </tr>\n",
       "  </thead>\n",
       "  <tbody>\n",
       "    <tr>\n",
       "      <th>0</th>\n",
       "      <td>4244733e06e7ecb4970a6e2683c13e61</td>\n",
       "      <td>1</td>\n",
       "      <td>871766c5855e863f6eccc05f988b23cb</td>\n",
       "      <td>399</td>\n",
       "      <td>1</td>\n",
       "      <td>301.006080</td>\n",
       "      <td>other</td>\n",
       "      <td>72.19</td>\n",
       "      <td>5</td>\n",
       "      <td>7.0</td>\n",
       "      <td>...</td>\n",
       "      <td>0.797254</td>\n",
       "      <td>-0.239064</td>\n",
       "      <td>-0.449542</td>\n",
       "      <td>1</td>\n",
       "      <td>2.079442</td>\n",
       "      <td>5.710447</td>\n",
       "      <td>-0.544980</td>\n",
       "      <td>-0.047954</td>\n",
       "      <td>3</td>\n",
       "      <td>0</td>\n",
       "    </tr>\n",
       "    <tr>\n",
       "      <th>1</th>\n",
       "      <td>4244733e06e7ecb4970a6e2683c13e61</td>\n",
       "      <td>0</td>\n",
       "      <td>0fb8e3eab2d3e79d92bb3fffbb97f188</td>\n",
       "      <td>476</td>\n",
       "      <td>1</td>\n",
       "      <td>943.873300</td>\n",
       "      <td>other</td>\n",
       "      <td>73.86</td>\n",
       "      <td>5</td>\n",
       "      <td>15.0</td>\n",
       "      <td>...</td>\n",
       "      <td>1.082811</td>\n",
       "      <td>-0.239064</td>\n",
       "      <td>-0.422639</td>\n",
       "      <td>1</td>\n",
       "      <td>2.772589</td>\n",
       "      <td>6.851051</td>\n",
       "      <td>0.591591</td>\n",
       "      <td>0.785536</td>\n",
       "      <td>1</td>\n",
       "      <td>0</td>\n",
       "    </tr>\n",
       "    <tr>\n",
       "      <th>2</th>\n",
       "      <td>4244733e06e7ecb4970a6e2683c13e61</td>\n",
       "      <td>1</td>\n",
       "      <td>3419052c8c6b45daf79c1e426f9e9bcb</td>\n",
       "      <td>152</td>\n",
       "      <td>1</td>\n",
       "      <td>287.307755</td>\n",
       "      <td>other</td>\n",
       "      <td>83.23</td>\n",
       "      <td>4</td>\n",
       "      <td>17.0</td>\n",
       "      <td>...</td>\n",
       "      <td>-0.761534</td>\n",
       "      <td>-0.239064</td>\n",
       "      <td>-0.282011</td>\n",
       "      <td>3</td>\n",
       "      <td>2.890372</td>\n",
       "      <td>5.664029</td>\n",
       "      <td>0.784723</td>\n",
       "      <td>-0.081875</td>\n",
       "      <td>0</td>\n",
       "      <td>0</td>\n",
       "    </tr>\n",
       "    <tr>\n",
       "      <th>3</th>\n",
       "      <td>4244733e06e7ecb4970a6e2683c13e61</td>\n",
       "      <td>1</td>\n",
       "      <td>e7c828d22c0682c1565252deefbe334d</td>\n",
       "      <td>442</td>\n",
       "      <td>1</td>\n",
       "      <td>608.577657</td>\n",
       "      <td>other</td>\n",
       "      <td>75.07</td>\n",
       "      <td>5</td>\n",
       "      <td>8.0</td>\n",
       "      <td>...</td>\n",
       "      <td>0.962869</td>\n",
       "      <td>-0.239064</td>\n",
       "      <td>-0.403519</td>\n",
       "      <td>1</td>\n",
       "      <td>2.197225</td>\n",
       "      <td>6.412766</td>\n",
       "      <td>-0.351848</td>\n",
       "      <td>0.465262</td>\n",
       "      <td>3</td>\n",
       "      <td>0</td>\n",
       "    </tr>\n",
       "    <tr>\n",
       "      <th>4</th>\n",
       "      <td>4244733e06e7ecb4970a6e2683c13e61</td>\n",
       "      <td>1</td>\n",
       "      <td>0bb98ba72dcc08e95f9d8cc434e9a2cc</td>\n",
       "      <td>433</td>\n",
       "      <td>1</td>\n",
       "      <td>207.980995</td>\n",
       "      <td>other</td>\n",
       "      <td>72.19</td>\n",
       "      <td>5</td>\n",
       "      <td>14.0</td>\n",
       "      <td>...</td>\n",
       "      <td>0.929577</td>\n",
       "      <td>-0.239064</td>\n",
       "      <td>-0.449542</td>\n",
       "      <td>1</td>\n",
       "      <td>2.708050</td>\n",
       "      <td>5.342243</td>\n",
       "      <td>0.485766</td>\n",
       "      <td>-0.317018</td>\n",
       "      <td>3</td>\n",
       "      <td>0</td>\n",
       "    </tr>\n",
       "    <tr>\n",
       "      <th>...</th>\n",
       "      <td>...</td>\n",
       "      <td>...</td>\n",
       "      <td>...</td>\n",
       "      <td>...</td>\n",
       "      <td>...</td>\n",
       "      <td>...</td>\n",
       "      <td>...</td>\n",
       "      <td>...</td>\n",
       "      <td>...</td>\n",
       "      <td>...</td>\n",
       "      <td>...</td>\n",
       "      <td>...</td>\n",
       "      <td>...</td>\n",
       "      <td>...</td>\n",
       "      <td>...</td>\n",
       "      <td>...</td>\n",
       "      <td>...</td>\n",
       "      <td>...</td>\n",
       "      <td>...</td>\n",
       "      <td>...</td>\n",
       "      <td>...</td>\n",
       "    </tr>\n",
       "    <tr>\n",
       "      <th>94238</th>\n",
       "      <td>3a96bcbf644a5d390107570628568026</td>\n",
       "      <td>1</td>\n",
       "      <td>e839774c9d31569dba47946296e58b33</td>\n",
       "      <td>84</td>\n",
       "      <td>1</td>\n",
       "      <td>74.994369</td>\n",
       "      <td>media</td>\n",
       "      <td>27.20</td>\n",
       "      <td>5</td>\n",
       "      <td>2.0</td>\n",
       "      <td>...</td>\n",
       "      <td>-1.714925</td>\n",
       "      <td>-0.239064</td>\n",
       "      <td>-1.586832</td>\n",
       "      <td>3</td>\n",
       "      <td>1.098612</td>\n",
       "      <td>4.330659</td>\n",
       "      <td>-2.153271</td>\n",
       "      <td>-1.056227</td>\n",
       "      <td>2</td>\n",
       "      <td>1</td>\n",
       "    </tr>\n",
       "    <tr>\n",
       "      <th>94239</th>\n",
       "      <td>2b54fb9a4acf707537eb53eb2458c241</td>\n",
       "      <td>1</td>\n",
       "      <td>8c3c961a52bb5a0ffbce1d4e6d25cd67</td>\n",
       "      <td>81</td>\n",
       "      <td>1</td>\n",
       "      <td>623.993701</td>\n",
       "      <td>media</td>\n",
       "      <td>77.50</td>\n",
       "      <td>5</td>\n",
       "      <td>6.0</td>\n",
       "      <td>...</td>\n",
       "      <td>-1.773207</td>\n",
       "      <td>-0.239064</td>\n",
       "      <td>-0.366022</td>\n",
       "      <td>3</td>\n",
       "      <td>1.945910</td>\n",
       "      <td>6.437742</td>\n",
       "      <td>-0.763935</td>\n",
       "      <td>0.483512</td>\n",
       "      <td>0</td>\n",
       "      <td>0</td>\n",
       "    </tr>\n",
       "    <tr>\n",
       "      <th>94240</th>\n",
       "      <td>9c313adb4b38a55b092f53f83f78be9e</td>\n",
       "      <td>1</td>\n",
       "      <td>8d80e477643ec569b24592ce3d9dfc4c</td>\n",
       "      <td>86</td>\n",
       "      <td>1</td>\n",
       "      <td>254.171222</td>\n",
       "      <td>media</td>\n",
       "      <td>84.63</td>\n",
       "      <td>3</td>\n",
       "      <td>4.0</td>\n",
       "      <td>...</td>\n",
       "      <td>-1.677203</td>\n",
       "      <td>-0.239064</td>\n",
       "      <td>-0.262354</td>\n",
       "      <td>3</td>\n",
       "      <td>1.609438</td>\n",
       "      <td>5.541935</td>\n",
       "      <td>-1.315657</td>\n",
       "      <td>-0.171094</td>\n",
       "      <td>0</td>\n",
       "      <td>0</td>\n",
       "    </tr>\n",
       "    <tr>\n",
       "      <th>94241</th>\n",
       "      <td>5aa0d6ed4e6c0995d62090cd82cde89a</td>\n",
       "      <td>0</td>\n",
       "      <td>428f4721a509be8c52de6ec2900ba918</td>\n",
       "      <td>55</td>\n",
       "      <td>1</td>\n",
       "      <td>289.354874</td>\n",
       "      <td>media</td>\n",
       "      <td>24.69</td>\n",
       "      <td>5</td>\n",
       "      <td>5.0</td>\n",
       "      <td>...</td>\n",
       "      <td>-2.391786</td>\n",
       "      <td>-0.239064</td>\n",
       "      <td>-1.697993</td>\n",
       "      <td>3</td>\n",
       "      <td>1.791759</td>\n",
       "      <td>5.671104</td>\n",
       "      <td>-1.016700</td>\n",
       "      <td>-0.076704</td>\n",
       "      <td>2</td>\n",
       "      <td>0</td>\n",
       "    </tr>\n",
       "    <tr>\n",
       "      <th>94242</th>\n",
       "      <td>6bb18295cc019bf3b6dc7c773411d530</td>\n",
       "      <td>1</td>\n",
       "      <td>c5da6424f1f5decedef8672a1a0103e1</td>\n",
       "      <td>57</td>\n",
       "      <td>1</td>\n",
       "      <td>395.006357</td>\n",
       "      <td>media</td>\n",
       "      <td>314.32</td>\n",
       "      <td>5</td>\n",
       "      <td>3.0</td>\n",
       "      <td>...</td>\n",
       "      <td>-2.334868</td>\n",
       "      <td>-0.239064</td>\n",
       "      <td>1.292077</td>\n",
       "      <td>3</td>\n",
       "      <td>1.386294</td>\n",
       "      <td>5.981430</td>\n",
       "      <td>-1.681551</td>\n",
       "      <td>0.150065</td>\n",
       "      <td>0</td>\n",
       "      <td>0</td>\n",
       "    </tr>\n",
       "  </tbody>\n",
       "</table>\n",
       "<p>94243 rows × 25 columns</p>\n",
       "</div>"
      ],
      "text/plain": [
       "                             product_id  payment_type  \\\n",
       "0      4244733e06e7ecb4970a6e2683c13e61             1   \n",
       "1      4244733e06e7ecb4970a6e2683c13e61             0   \n",
       "2      4244733e06e7ecb4970a6e2683c13e61             1   \n",
       "3      4244733e06e7ecb4970a6e2683c13e61             1   \n",
       "4      4244733e06e7ecb4970a6e2683c13e61             1   \n",
       "...                                 ...           ...   \n",
       "94238  3a96bcbf644a5d390107570628568026             1   \n",
       "94239  2b54fb9a4acf707537eb53eb2458c241             1   \n",
       "94240  9c313adb4b38a55b092f53f83f78be9e             1   \n",
       "94241  5aa0d6ed4e6c0995d62090cd82cde89a             0   \n",
       "94242  6bb18295cc019bf3b6dc7c773411d530             1   \n",
       "\n",
       "                     customer_unique_id  Recency  frequence_achat  \\\n",
       "0      871766c5855e863f6eccc05f988b23cb      399                1   \n",
       "1      0fb8e3eab2d3e79d92bb3fffbb97f188      476                1   \n",
       "2      3419052c8c6b45daf79c1e426f9e9bcb      152                1   \n",
       "3      e7c828d22c0682c1565252deefbe334d      442                1   \n",
       "4      0bb98ba72dcc08e95f9d8cc434e9a2cc      433                1   \n",
       "...                                 ...      ...              ...   \n",
       "94238  e839774c9d31569dba47946296e58b33       84                1   \n",
       "94239  8c3c961a52bb5a0ffbce1d4e6d25cd67       81                1   \n",
       "94240  8d80e477643ec569b24592ce3d9dfc4c       86                1   \n",
       "94241  428f4721a509be8c52de6ec2900ba918       55                1   \n",
       "94242  c5da6424f1f5decedef8672a1a0103e1       57                1   \n",
       "\n",
       "       dist_cust_seller product_category_name_english  payment_value  \\\n",
       "0            301.006080                         other          72.19   \n",
       "1            943.873300                         other          73.86   \n",
       "2            287.307755                         other          83.23   \n",
       "3            608.577657                         other          75.07   \n",
       "4            207.980995                         other          72.19   \n",
       "...                 ...                           ...            ...   \n",
       "94238         74.994369                         media          27.20   \n",
       "94239        623.993701                         media          77.50   \n",
       "94240        254.171222                         media          84.63   \n",
       "94241        289.354874                         media          24.69   \n",
       "94242        395.006357                         media         314.32   \n",
       "\n",
       "       review_score  delivery_time  ...  Recency_t  Frequency_t  Monetary_t  \\\n",
       "0                 5            7.0  ...   0.797254    -0.239064   -0.449542   \n",
       "1                 5           15.0  ...   1.082811    -0.239064   -0.422639   \n",
       "2                 4           17.0  ...  -0.761534    -0.239064   -0.282011   \n",
       "3                 5            8.0  ...   0.962869    -0.239064   -0.403519   \n",
       "4                 5           14.0  ...   0.929577    -0.239064   -0.449542   \n",
       "...             ...            ...  ...        ...          ...         ...   \n",
       "94238             5            2.0  ...  -1.714925    -0.239064   -1.586832   \n",
       "94239             5            6.0  ...  -1.773207    -0.239064   -0.366022   \n",
       "94240             3            4.0  ...  -1.677203    -0.239064   -0.262354   \n",
       "94241             5            5.0  ...  -2.391786    -0.239064   -1.697993   \n",
       "94242             5            3.0  ...  -2.334868    -0.239064    1.292077   \n",
       "\n",
       "       model1_cluster  Delivery_log  Distance_log  Delivery_t  Distance_t  \\\n",
       "0                   1      2.079442      5.710447   -0.544980   -0.047954   \n",
       "1                   1      2.772589      6.851051    0.591591    0.785536   \n",
       "2                   3      2.890372      5.664029    0.784723   -0.081875   \n",
       "3                   1      2.197225      6.412766   -0.351848    0.465262   \n",
       "4                   1      2.708050      5.342243    0.485766   -0.317018   \n",
       "...               ...           ...           ...         ...         ...   \n",
       "94238               3      1.098612      4.330659   -2.153271   -1.056227   \n",
       "94239               3      1.945910      6.437742   -0.763935    0.483512   \n",
       "94240               3      1.609438      5.541935   -1.315657   -0.171094   \n",
       "94241               3      1.791759      5.671104   -1.016700   -0.076704   \n",
       "94242               3      1.386294      5.981430   -1.681551    0.150065   \n",
       "\n",
       "       model2_cluster  model3_cluster  \n",
       "0                   3               0  \n",
       "1                   1               0  \n",
       "2                   0               0  \n",
       "3                   3               0  \n",
       "4                   3               0  \n",
       "...               ...             ...  \n",
       "94238               2               1  \n",
       "94239               0               0  \n",
       "94240               0               0  \n",
       "94241               2               0  \n",
       "94242               0               0  \n",
       "\n",
       "[94243 rows x 25 columns]"
      ]
     },
     "execution_count": 3,
     "metadata": {},
     "output_type": "execute_result"
    }
   ],
   "source": [
    "df"
   ]
  },
  {
   "cell_type": "markdown",
   "id": "56f76e87",
   "metadata": {},
   "source": [
    "## Model 2 (5 features avec log + StandardScaler)"
   ]
  },
  {
   "cell_type": "markdown",
   "id": "14439ef2",
   "metadata": {},
   "source": [
    "#### Stabiité du modèle"
   ]
  },
  {
   "cell_type": "markdown",
   "id": "bcf2d1b3",
   "metadata": {},
   "source": [
    "**A 180 jours**"
   ]
  },
  {
   "cell_type": "code",
   "execution_count": 4,
   "id": "3ed5e72c",
   "metadata": {},
   "outputs": [],
   "source": [
    "df_stab_ref = df[df['Recency'] < 180]"
   ]
  },
  {
   "cell_type": "code",
   "execution_count": 5,
   "id": "c2865a3e",
   "metadata": {},
   "outputs": [],
   "source": [
    "customers2_ref = pd.DataFrame()\n",
    "customers2_ref[\"Recency\"] = df_stab_ref['Recency_t']\n",
    "customers2_ref[\"Frequence\"] = df_stab_ref['Frequency_t']\n",
    "customers2_ref[\"Monetary\"] = df_stab_ref['Monetary_t']\n",
    "customers2_ref[\"Delivery\"] = df_stab_ref['Delivery_t']\n",
    "customers2_ref[\"Distance\"] = df_stab_ref['Distance_t']\n",
    "\n",
    "customers2_ref.reset_index(inplace=True)"
   ]
  },
  {
   "cell_type": "code",
   "execution_count": 6,
   "id": "a6294f58",
   "metadata": {},
   "outputs": [],
   "source": [
    "n_comp = 2\n",
    "pca = PCA(n_components=n_comp)"
   ]
  },
  {
   "cell_type": "code",
   "execution_count": 7,
   "id": "d8bb375b",
   "metadata": {
    "scrolled": true
   },
   "outputs": [
    {
     "data": {
      "text/plain": [
       "KMeans(n_clusters=4)"
      ]
     },
     "execution_count": 7,
     "metadata": {},
     "output_type": "execute_result"
    }
   ],
   "source": [
    "model_ref = KMeans(n_clusters=4)\n",
    "data_pca_ref = pca.fit_transform(customers2_ref)\n",
    "model_ref.fit(data_pca_ref)"
   ]
  },
  {
   "cell_type": "markdown",
   "id": "ef9714b0",
   "metadata": {},
   "source": [
    "**A 210 jours**"
   ]
  },
  {
   "cell_type": "code",
   "execution_count": 8,
   "id": "f28eb0cb",
   "metadata": {},
   "outputs": [],
   "source": [
    "df_stab_1M = df[df['Recency'] < 210]"
   ]
  },
  {
   "cell_type": "code",
   "execution_count": 9,
   "id": "4de55ac2",
   "metadata": {},
   "outputs": [],
   "source": [
    "customers2_1M = pd.DataFrame()\n",
    "customers2_1M[\"Recency\"] = df_stab_1M['Recency_t']\n",
    "customers2_1M[\"Frequence\"] = df_stab_1M['Frequency_t']\n",
    "customers2_1M[\"Monetary\"] = df_stab_1M['Monetary_t']\n",
    "customers2_1M[\"Delivery\"] = df_stab_1M['Delivery_t']\n",
    "customers2_1M[\"Distance\"] = df_stab_1M['Distance_t']\n",
    "\n",
    "customers2_1M.reset_index(inplace=True)"
   ]
  },
  {
   "cell_type": "code",
   "execution_count": 10,
   "id": "6a76688c",
   "metadata": {},
   "outputs": [],
   "source": [
    "model_1M = KMeans(n_clusters=4)\n",
    "data_pca_1M = pca.fit_transform(customers2_1M)\n",
    "model_1M.fit(data_pca_1M)\n",
    "label_ref_1M = model_ref.predict(data_pca_1M)\n",
    "label_1M = model_1M.predict(data_pca_1M)"
   ]
  },
  {
   "cell_type": "markdown",
   "id": "38ab4982",
   "metadata": {},
   "source": [
    "**A 240 jours**"
   ]
  },
  {
   "cell_type": "code",
   "execution_count": 11,
   "id": "1929feb8",
   "metadata": {},
   "outputs": [],
   "source": [
    "df_stab_2M = df[df['Recency'] < 240]"
   ]
  },
  {
   "cell_type": "code",
   "execution_count": 12,
   "id": "4724df60",
   "metadata": {},
   "outputs": [],
   "source": [
    "customers2_2M = pd.DataFrame()\n",
    "customers2_2M[\"Recency\"] = df_stab_2M['Recency_t']\n",
    "customers2_2M[\"Frequence\"] = df_stab_2M['Frequency_t']\n",
    "customers2_2M[\"Monetary\"] = df_stab_2M['Monetary_t']\n",
    "customers2_2M[\"Delivery\"] = df_stab_2M['Delivery_t']\n",
    "customers2_2M[\"Distance\"] = df_stab_2M['Distance_t']\n",
    "\n",
    "customers2_2M.reset_index(inplace=True)"
   ]
  },
  {
   "cell_type": "code",
   "execution_count": 13,
   "id": "b6919729",
   "metadata": {},
   "outputs": [],
   "source": [
    "model_2M = KMeans(n_clusters=4)\n",
    "data_pca_2M = pca.fit_transform(customers2_2M)\n",
    "model_2M.fit(data_pca_2M)\n",
    "label_ref_2M = model_ref.predict(data_pca_2M)\n",
    "label_2M = model_2M.predict(data_pca_2M)"
   ]
  },
  {
   "cell_type": "markdown",
   "id": "8143fa06",
   "metadata": {},
   "source": [
    "**A 270 jours**"
   ]
  },
  {
   "cell_type": "code",
   "execution_count": 14,
   "id": "9bc0289d",
   "metadata": {},
   "outputs": [],
   "source": [
    "df_stab_3M = df[df['Recency'] < 270]"
   ]
  },
  {
   "cell_type": "code",
   "execution_count": 15,
   "id": "0898aa64",
   "metadata": {},
   "outputs": [],
   "source": [
    "customers2_3M = pd.DataFrame()\n",
    "customers2_3M[\"Recency\"] = df_stab_3M['Recency_t']\n",
    "customers2_3M[\"Frequence\"] = df_stab_3M['Frequency_t']\n",
    "customers2_3M[\"Monetary\"] = df_stab_3M['Monetary_t']\n",
    "customers2_3M[\"Delivery\"] = df_stab_3M['Delivery_t']\n",
    "customers2_3M[\"Distance\"] = df_stab_3M['Distance_t']\n",
    "\n",
    "customers2_3M.reset_index(inplace=True)"
   ]
  },
  {
   "cell_type": "code",
   "execution_count": 16,
   "id": "b493dd05",
   "metadata": {},
   "outputs": [],
   "source": [
    "model_3M = KMeans(n_clusters=4)\n",
    "data_pca_3M = pca.fit_transform(customers2_3M)\n",
    "model_3M.fit(data_pca_3M)\n",
    "label_ref_3M = model_ref.predict(data_pca_3M)\n",
    "label_3M = model_3M.predict(data_pca_3M)"
   ]
  },
  {
   "cell_type": "markdown",
   "id": "6abe40bf",
   "metadata": {},
   "source": [
    "**A 300 jours**"
   ]
  },
  {
   "cell_type": "code",
   "execution_count": 17,
   "id": "0be22a8a",
   "metadata": {},
   "outputs": [],
   "source": [
    "df_stab_4M = df[df['Recency'] < 300]"
   ]
  },
  {
   "cell_type": "code",
   "execution_count": 18,
   "id": "a3cd75d4",
   "metadata": {},
   "outputs": [],
   "source": [
    "customers2_4M = pd.DataFrame()\n",
    "customers2_4M[\"Recency\"] = df_stab_4M['Recency_t']\n",
    "customers2_4M[\"Frequence\"] = df_stab_4M['Frequency_t']\n",
    "customers2_4M[\"Monetary\"] = df_stab_4M['Monetary_t']\n",
    "customers2_4M[\"Delivery\"] = df_stab_4M['Delivery_t']\n",
    "customers2_4M[\"Distance\"] = df_stab_4M['Distance_t']\n",
    "\n",
    "customers2_4M.reset_index(inplace=True)"
   ]
  },
  {
   "cell_type": "code",
   "execution_count": 19,
   "id": "ee63cbce",
   "metadata": {},
   "outputs": [],
   "source": [
    "model_4M = KMeans(n_clusters=4)\n",
    "data_pca_4M = pca.fit_transform(customers2_4M)\n",
    "model_4M.fit(data_pca_4M)\n",
    "label_ref_4M = model_ref.predict(data_pca_4M)\n",
    "label_4M = model_4M.predict(data_pca_4M)"
   ]
  },
  {
   "cell_type": "markdown",
   "id": "016657a0",
   "metadata": {},
   "source": [
    "**A 330 jours**"
   ]
  },
  {
   "cell_type": "code",
   "execution_count": 20,
   "id": "efc32cb8",
   "metadata": {},
   "outputs": [],
   "source": [
    "df_stab_5M = df[df['Recency'] < 330]"
   ]
  },
  {
   "cell_type": "code",
   "execution_count": 21,
   "id": "83ea6244",
   "metadata": {},
   "outputs": [],
   "source": [
    "customers2_5M = pd.DataFrame()\n",
    "customers2_5M[\"Recency\"] = df_stab_5M['Recency_t']\n",
    "customers2_5M[\"Frequence\"] = df_stab_5M['Frequency_t']\n",
    "customers2_5M[\"Monetary\"] = df_stab_5M['Monetary_t']\n",
    "customers2_5M[\"Delivery\"] = df_stab_5M['Delivery_t']\n",
    "customers2_5M[\"Distance\"] = df_stab_5M['Distance_t']\n",
    "\n",
    "customers2_5M.reset_index(inplace=True)"
   ]
  },
  {
   "cell_type": "code",
   "execution_count": 22,
   "id": "60e5c92e",
   "metadata": {},
   "outputs": [],
   "source": [
    "model_5M = KMeans(n_clusters=4)\n",
    "data_pca_5M = pca.fit_transform(customers2_5M)\n",
    "model_5M.fit(data_pca_5M)\n",
    "label_ref_5M = model_ref.predict(data_pca_5M)\n",
    "label_5M = model_5M.predict(data_pca_5M)"
   ]
  },
  {
   "cell_type": "markdown",
   "id": "0190888f",
   "metadata": {},
   "source": [
    "**A 360 jours**"
   ]
  },
  {
   "cell_type": "code",
   "execution_count": 23,
   "id": "0a059652",
   "metadata": {},
   "outputs": [],
   "source": [
    "df_stab_6M = df[df['Recency'] < 360]"
   ]
  },
  {
   "cell_type": "code",
   "execution_count": 24,
   "id": "5ecd7d77",
   "metadata": {},
   "outputs": [],
   "source": [
    "customers2_6M = pd.DataFrame()\n",
    "customers2_6M[\"Recency\"] = df_stab_6M['Recency_t']\n",
    "customers2_6M[\"Frequence\"] = df_stab_6M['Frequency_t']\n",
    "customers2_6M[\"Monetary\"] = df_stab_6M['Monetary_t']\n",
    "customers2_6M[\"Delivery\"] = df_stab_6M['Delivery_t']\n",
    "customers2_6M[\"Distance\"] = df_stab_6M['Distance_t']\n",
    "\n",
    "customers2_6M.reset_index(inplace=True)"
   ]
  },
  {
   "cell_type": "code",
   "execution_count": 25,
   "id": "1d658dbd",
   "metadata": {},
   "outputs": [],
   "source": [
    "model_6M = KMeans(n_clusters=4)\n",
    "data_pca_6M = pca.fit_transform(customers2_6M)\n",
    "model_6M.fit(data_pca_6M)\n",
    "label_ref_6M = model_ref.predict(data_pca_6M)\n",
    "label_6M = model_6M.predict(data_pca_6M)"
   ]
  },
  {
   "cell_type": "markdown",
   "id": "e6c7c1b4",
   "metadata": {},
   "source": [
    "**A 450 jours**"
   ]
  },
  {
   "cell_type": "code",
   "execution_count": 26,
   "id": "992e42bf",
   "metadata": {},
   "outputs": [],
   "source": [
    "df_stab_9M = df[df['Recency'] < 450]"
   ]
  },
  {
   "cell_type": "code",
   "execution_count": 27,
   "id": "6c53463b",
   "metadata": {},
   "outputs": [],
   "source": [
    "customers2_9M = pd.DataFrame()\n",
    "customers2_9M[\"Recency\"] = df_stab_9M['Recency_t']\n",
    "customers2_9M[\"Frequence\"] = df_stab_9M['Frequency_t']\n",
    "customers2_9M[\"Monetary\"] = df_stab_9M['Monetary_t']\n",
    "customers2_9M[\"Delivery\"] = df_stab_9M['Delivery_t']\n",
    "customers2_9M[\"Distance\"] = df_stab_9M['Distance_t']\n",
    "\n",
    "customers2_9M.reset_index(inplace=True)"
   ]
  },
  {
   "cell_type": "code",
   "execution_count": 28,
   "id": "e4c3ca85",
   "metadata": {},
   "outputs": [],
   "source": [
    "model_9M = KMeans(n_clusters=4)\n",
    "data_pca_9M = pca.fit_transform(customers2_9M)\n",
    "model_9M.fit(data_pca_9M)\n",
    "label_ref_9M = model_ref.predict(data_pca_9M)\n",
    "label_9M = model_9M.predict(data_pca_9M)"
   ]
  },
  {
   "cell_type": "markdown",
   "id": "545a22ee",
   "metadata": {},
   "source": [
    "**A 540 jours**"
   ]
  },
  {
   "cell_type": "code",
   "execution_count": 29,
   "id": "212f2496",
   "metadata": {},
   "outputs": [],
   "source": [
    "df_stab_12M = df[df['Recency'] < 540]"
   ]
  },
  {
   "cell_type": "code",
   "execution_count": 30,
   "id": "e4de2602",
   "metadata": {},
   "outputs": [],
   "source": [
    "customers2_12M = pd.DataFrame()\n",
    "customers2_12M[\"Recency\"] = df_stab_12M['Recency_t']\n",
    "customers2_12M[\"Frequence\"] = df_stab_12M['Frequency_t']\n",
    "customers2_12M[\"Monetary\"] = df_stab_12M['Monetary_t']\n",
    "customers2_12M[\"Delivery\"] = df_stab_12M['Delivery_t']\n",
    "customers2_12M[\"Distance\"] = df_stab_12M['Distance_t']\n",
    "\n",
    "customers2_12M.reset_index(inplace=True)"
   ]
  },
  {
   "cell_type": "code",
   "execution_count": 31,
   "id": "6aad82be",
   "metadata": {},
   "outputs": [],
   "source": [
    "model_12M = KMeans(n_clusters=4)\n",
    "data_pca_12M = pca.fit_transform(customers2_12M)\n",
    "model_12M.fit(data_pca_12M)\n",
    "label_ref_12M = model_ref.predict(data_pca_12M)\n",
    "label_12M = model_9M.predict(data_pca_12M)"
   ]
  },
  {
   "cell_type": "code",
   "execution_count": 32,
   "id": "def6e307",
   "metadata": {},
   "outputs": [
    {
     "name": "stdout",
     "output_type": "stream",
     "text": [
      "ARI à 1 mois : 0.9591383318630747\n",
      "ARI à 2 mois : 0.9352013729973802\n",
      "ARI à 3 mois : 0.9108033533858043\n",
      "ARI à 4 mois : 0.8720684862978174\n",
      "ARI à 5 mois : 0.8392139481148367\n",
      "ARI à 6 mois : 0.8368782324784602\n",
      "ARI à 9 mois : -2.3508925283329716\n",
      "ARI à 12 mois : -5.330493578840964\n"
     ]
    },
    {
     "name": "stderr",
     "output_type": "stream",
     "text": [
      "D:\\Users\\Damien\\anaconda3\\lib\\site-packages\\sklearn\\metrics\\cluster\\_supervised.py:389: RuntimeWarning: overflow encountered in longlong_scalars\n",
      "  return 2. * (tp * tn - fn * fp) / ((tp + fn) * (fn + tn) +\n",
      "D:\\Users\\Damien\\anaconda3\\lib\\site-packages\\sklearn\\metrics\\cluster\\_supervised.py:389: RuntimeWarning: overflow encountered in longlong_scalars\n",
      "  return 2. * (tp * tn - fn * fp) / ((tp + fn) * (fn + tn) +\n",
      "D:\\Users\\Damien\\anaconda3\\lib\\site-packages\\sklearn\\metrics\\cluster\\_supervised.py:390: RuntimeWarning: overflow encountered in longlong_scalars\n",
      "  (tp + fp) * (fp + tn))\n"
     ]
    }
   ],
   "source": [
    "print(\"ARI à 1 mois :\",\n",
    "      adjusted_rand_score(label_ref_1M,\n",
    "                          label_1M))\n",
    "print(\"ARI à 2 mois :\",\n",
    "      adjusted_rand_score(label_ref_2M,\n",
    "                          label_2M))\n",
    "print(\"ARI à 3 mois :\",\n",
    "      adjusted_rand_score(label_ref_3M,\n",
    "                          label_3M))\n",
    "print(\"ARI à 4 mois :\",\n",
    "      adjusted_rand_score(label_ref_4M,\n",
    "                          label_4M))\n",
    "print(\"ARI à 5 mois :\",\n",
    "      adjusted_rand_score(label_ref_5M,\n",
    "                          label_5M))\n",
    "print(\"ARI à 6 mois :\",\n",
    "      adjusted_rand_score(label_ref_6M,\n",
    "                          label_6M))\n",
    "print(\"ARI à 9 mois :\",\n",
    "      adjusted_rand_score(label_ref_9M,\n",
    "                          label_9M))\n",
    "print(\"ARI à 12 mois :\",\n",
    "      adjusted_rand_score(label_ref_12M,\n",
    "                          label_12M))"
   ]
  },
  {
   "cell_type": "code",
   "execution_count": 33,
   "id": "712cc8e0",
   "metadata": {},
   "outputs": [],
   "source": [
    "data_ari = pd.DataFrame()\n",
    "data_ari[\"Month\"] = [1, 2, 3, 4, 5, 6, 9]\n",
    "data_ari[\"Adjusted Rand Index\"] = [0.93, 0.91, 0.85, 0.84, 0.84, 0.84, -2.30]"
   ]
  },
  {
   "cell_type": "code",
   "execution_count": 34,
   "id": "bc613562",
   "metadata": {},
   "outputs": [
    {
     "data": {
      "image/png": "[encoded data removed]",
      "text/plain": [
       "<Figure size 720x720 with 1 Axes>"
      ]
     },
     "metadata": {},
     "output_type": "display_data"
    }
   ],
   "source": [
    "plt.figure(figsize=(10, 10))\n",
    "plt.plot(data_ari[\"Month\"], data_ari[\"Adjusted Rand Index\"])\n",
    "plt.title(\"EVOLUTION DE L'AJUSTED RAND INDEX\")\n",
    "plt.show()"
   ]
  },
  {
   "cell_type": "markdown",
   "id": "70159940",
   "metadata": {},
   "source": [
    "### Model 3 (8 features avec log + StandardScaler)"
   ]
  },
  {
   "cell_type": "markdown",
   "id": "813191c6",
   "metadata": {},
   "source": [
    "#### Stabilité du modèle"
   ]
  },
  {
   "cell_type": "markdown",
   "id": "990ab2de",
   "metadata": {},
   "source": [
    "**A 180 jours**"
   ]
  },
  {
   "cell_type": "code",
   "execution_count": 35,
   "id": "6a2ec115",
   "metadata": {},
   "outputs": [],
   "source": [
    "df_stab_ref = df[df['Recency'] < 180]"
   ]
  },
  {
   "cell_type": "code",
   "execution_count": 36,
   "id": "efc7a354",
   "metadata": {},
   "outputs": [],
   "source": [
    "customers3_ref = pd.DataFrame()\n",
    "customers3_ref[\"Recency\"] = df_stab_ref['Recency_t']\n",
    "customers3_ref[\"Frequence\"] = df_stab_ref['Frequency_t']\n",
    "customers3_ref[\"Monetary\"] = df_stab_ref['Monetary_t']\n",
    "customers3_ref[\"Delivery\"] = df_stab_ref['Delivery_t']\n",
    "customers3_ref[\"Distance\"] = df_stab_ref['Distance_t']\n",
    "customers3_ref[\"Review\"] = df_stab_ref['review_score']\n",
    "customers3_ref[\"Riche\"] = df_stab_ref['m_quartile']\n",
    "customers3_ref[\"City\"] = df_stab_ref['customer_city']\n",
    "customers3_ref[\"Product\"] = df_stab_ref['product_category_name_english']\n",
    "customers3_ref.reset_index(inplace=True)\n",
    "\n",
    "customers3_ref.reset_index(inplace=True)"
   ]
  },
  {
   "cell_type": "code",
   "execution_count": 37,
   "id": "281a940a",
   "metadata": {},
   "outputs": [
    {
     "name": "stdout",
     "output_type": "stream",
     "text": [
      "Init: initializing centroids\n",
      "Init: initializing clusters\n",
      "Starting iterations...\n",
      "Run 1, iteration: 1/100, moves: 31, cost: 208457.0\n"
     ]
    },
    {
     "data": {
      "text/plain": [
       "KModes(n_clusters=4, verbose=1)"
      ]
     },
     "execution_count": 37,
     "metadata": {},
     "output_type": "execute_result"
    }
   ],
   "source": [
    "km_cao_ref = KModes(n_clusters=4, init=\"Cao\", n_init=1, verbose=1)\n",
    "km_cao_ref.fit(customers3_ref)"
   ]
  },
  {
   "cell_type": "markdown",
   "id": "c87205c6",
   "metadata": {},
   "source": [
    "**A 210 jours**"
   ]
  },
  {
   "cell_type": "code",
   "execution_count": 38,
   "id": "ee8b7367",
   "metadata": {},
   "outputs": [],
   "source": [
    "df_stab_1M = df[df['Recency'] < 210]"
   ]
  },
  {
   "cell_type": "code",
   "execution_count": 39,
   "id": "bb0db158",
   "metadata": {},
   "outputs": [],
   "source": [
    "customers3_1M = pd.DataFrame()\n",
    "customers3_1M[\"Recency\"] = df_stab_1M['Recency_t']\n",
    "customers3_1M[\"Frequence\"] = df_stab_1M['Frequency_t']\n",
    "customers3_1M[\"Monetary\"] = df_stab_1M['Monetary_t']\n",
    "customers3_1M[\"Delivery\"] = df_stab_1M['Delivery_t']\n",
    "customers3_1M[\"Distance\"] = df_stab_1M['Distance_t']\n",
    "customers3_1M[\"Review\"] = df_stab_1M['review_score']\n",
    "customers3_1M[\"Riche\"] = df_stab_1M['m_quartile']\n",
    "customers3_1M[\"City\"] = df_stab_1M['customer_city']\n",
    "customers3_1M[\"Product\"] = df_stab_1M['product_category_name_english']\n",
    "customers3_1M.reset_index(inplace=True)\n",
    "\n",
    "customers3_1M.reset_index(inplace=True)"
   ]
  },
  {
   "cell_type": "code",
   "execution_count": 40,
   "id": "1d8fee2a",
   "metadata": {},
   "outputs": [
    {
     "name": "stdout",
     "output_type": "stream",
     "text": [
      "Init: initializing centroids\n",
      "Init: initializing clusters\n",
      "Starting iterations...\n",
      "Run 1, iteration: 1/100, moves: 17, cost: 258938.0\n"
     ]
    }
   ],
   "source": [
    "km_cao_1M = KModes(n_clusters=4, init=\"Cao\", n_init=1, verbose=1)\n",
    "km_cao_1M.fit(customers3_1M)\n",
    "label_ref_1M = km_cao_ref.predict(customers3_1M)\n",
    "label_1M = km_cao_1M.predict(customers3_1M)"
   ]
  },
  {
   "cell_type": "markdown",
   "id": "be65c54c",
   "metadata": {},
   "source": [
    "**A 240 jours**"
   ]
  },
  {
   "cell_type": "code",
   "execution_count": 41,
   "id": "6120361d",
   "metadata": {},
   "outputs": [],
   "source": [
    "df_stab_2M = df[df['Recency'] < 240]"
   ]
  },
  {
   "cell_type": "code",
   "execution_count": 42,
   "id": "ce4fb69c",
   "metadata": {},
   "outputs": [],
   "source": [
    "customers3_2M = pd.DataFrame()\n",
    "customers3_2M[\"Recency\"] = df_stab_2M['Recency_t']\n",
    "customers3_2M[\"Frequence\"] = df_stab_2M['Frequency_t']\n",
    "customers3_2M[\"Monetary\"] = df_stab_2M['Monetary_t']\n",
    "customers3_2M[\"Delivery\"] = df_stab_2M['Delivery_t']\n",
    "customers3_2M[\"Distance\"] = df_stab_2M['Distance_t']\n",
    "customers3_2M[\"Review\"] = df_stab_2M['review_score']\n",
    "customers3_2M[\"Riche\"] = df_stab_2M['m_quartile']\n",
    "customers3_2M[\"City\"] = df_stab_2M['customer_city']\n",
    "customers3_2M[\"Product\"] = df_stab_2M['product_category_name_english']\n",
    "customers3_2M.reset_index(inplace=True)\n",
    "\n",
    "customers3_2M.reset_index(inplace=True)"
   ]
  },
  {
   "cell_type": "code",
   "execution_count": 43,
   "id": "77af712d",
   "metadata": {},
   "outputs": [
    {
     "name": "stdout",
     "output_type": "stream",
     "text": [
      "Init: initializing centroids\n",
      "Init: initializing clusters\n",
      "Starting iterations...\n",
      "Run 1, iteration: 1/100, moves: 70, cost: 315106.0\n"
     ]
    }
   ],
   "source": [
    "km_cao_2M = KModes(n_clusters=4, init=\"Cao\", n_init=1, verbose=1)\n",
    "km_cao_2M.fit(customers3_2M)\n",
    "label_ref_2M = km_cao_ref.predict(customers3_2M)\n",
    "label_2M = km_cao_2M.predict(customers3_2M)"
   ]
  },
  {
   "cell_type": "markdown",
   "id": "bf1ed95f",
   "metadata": {},
   "source": [
    "**A 270 jours**"
   ]
  },
  {
   "cell_type": "code",
   "execution_count": 44,
   "id": "89cffb23",
   "metadata": {},
   "outputs": [],
   "source": [
    "df_stab_3M = df[df['Recency'] < 270]"
   ]
  },
  {
   "cell_type": "code",
   "execution_count": 45,
   "id": "145a69e2",
   "metadata": {},
   "outputs": [],
   "source": [
    "customers3_3M = pd.DataFrame()\n",
    "customers3_3M[\"Recency\"] = df_stab_3M['Recency_t']\n",
    "customers3_3M[\"Frequence\"] = df_stab_3M['Frequency_t']\n",
    "customers3_3M[\"Monetary\"] = df_stab_3M['Monetary_t']\n",
    "customers3_3M[\"Delivery\"] = df_stab_3M['Delivery_t']\n",
    "customers3_3M[\"Distance\"] = df_stab_3M['Distance_t']\n",
    "customers3_3M[\"Review\"] = df_stab_3M['review_score']\n",
    "customers3_3M[\"Riche\"] = df_stab_3M['m_quartile']\n",
    "customers3_3M[\"City\"] = df_stab_3M['customer_city']\n",
    "customers3_3M[\"Product\"] = df_stab_3M['product_category_name_english']\n",
    "customers3_3M.reset_index(inplace=True)\n",
    "\n",
    "customers3_3M.reset_index(inplace=True)"
   ]
  },
  {
   "cell_type": "code",
   "execution_count": 46,
   "id": "c2b321d4",
   "metadata": {},
   "outputs": [
    {
     "name": "stdout",
     "output_type": "stream",
     "text": [
      "Init: initializing centroids\n",
      "Init: initializing clusters\n",
      "Starting iterations...\n",
      "Run 1, iteration: 1/100, moves: 3217, cost: 364717.0\n"
     ]
    }
   ],
   "source": [
    "km_cao_3M = KModes(n_clusters=4, init=\"Cao\", n_init=1, verbose=1)\n",
    "km_cao_3M.fit(customers3_3M)\n",
    "label_ref_3M = km_cao_ref.predict(customers3_3M)\n",
    "label_3M = km_cao_3M.predict(customers3_3M)"
   ]
  },
  {
   "cell_type": "markdown",
   "id": "b5a91fed",
   "metadata": {},
   "source": [
    "**A 300 jours**"
   ]
  },
  {
   "cell_type": "code",
   "execution_count": 47,
   "id": "91a85551",
   "metadata": {},
   "outputs": [],
   "source": [
    "df_stab_4M = df[df['Recency'] < 300]"
   ]
  },
  {
   "cell_type": "code",
   "execution_count": 48,
   "id": "28981ec6",
   "metadata": {},
   "outputs": [],
   "source": [
    "customers3_4M = pd.DataFrame()\n",
    "customers3_4M[\"Recency\"] = df_stab_4M['Recency_t']\n",
    "customers3_4M[\"Frequence\"] = df_stab_4M['Frequency_t']\n",
    "customers3_4M[\"Monetary\"] = df_stab_4M['Monetary_t']\n",
    "customers3_4M[\"Delivery\"] = df_stab_4M['Delivery_t']\n",
    "customers3_4M[\"Distance\"] = df_stab_4M['Distance_t']\n",
    "customers3_4M[\"Review\"] = df_stab_4M['review_score']\n",
    "customers3_4M[\"Riche\"] = df_stab_4M['m_quartile']\n",
    "customers3_4M[\"City\"] = df_stab_4M['customer_city']\n",
    "customers3_4M[\"Product\"] = df_stab_4M['product_category_name_english']\n",
    "customers3_4M.reset_index(inplace=True)\n",
    "\n",
    "customers3_4M.reset_index(inplace=True)"
   ]
  },
  {
   "cell_type": "code",
   "execution_count": 49,
   "id": "0ddd59f7",
   "metadata": {},
   "outputs": [
    {
     "name": "stdout",
     "output_type": "stream",
     "text": [
      "Init: initializing centroids\n",
      "Init: initializing clusters\n",
      "Starting iterations...\n",
      "Run 1, iteration: 1/100, moves: 88, cost: 407499.0\n"
     ]
    }
   ],
   "source": [
    "km_cao_4M = KModes(n_clusters=4, init=\"Cao\", n_init=1, verbose=1)\n",
    "km_cao_4M.fit(customers3_4M)\n",
    "label_ref_4M = km_cao_ref.predict(customers3_4M)\n",
    "label_4M = km_cao_3M.predict(customers3_4M)"
   ]
  },
  {
   "cell_type": "markdown",
   "id": "195d6ecd",
   "metadata": {},
   "source": [
    "**A 330 jours**"
   ]
  },
  {
   "cell_type": "code",
   "execution_count": 50,
   "id": "04b9f1ea",
   "metadata": {},
   "outputs": [],
   "source": [
    "df_stab_5M = df[df['Recency'] < 330]"
   ]
  },
  {
   "cell_type": "code",
   "execution_count": 51,
   "id": "81816bbe",
   "metadata": {},
   "outputs": [],
   "source": [
    "customers3_5M = pd.DataFrame()\n",
    "customers3_5M[\"Recency\"] = df_stab_5M['Recency_t']\n",
    "customers3_5M[\"Frequence\"] = df_stab_5M['Frequency_t']\n",
    "customers3_5M[\"Monetary\"] = df_stab_5M['Monetary_t']\n",
    "customers3_5M[\"Delivery\"] = df_stab_5M['Delivery_t']\n",
    "customers3_5M[\"Distance\"] = df_stab_5M['Distance_t']\n",
    "customers3_5M[\"Review\"] = df_stab_5M['review_score']\n",
    "customers3_5M[\"Riche\"] = df_stab_5M['m_quartile']\n",
    "customers3_5M[\"City\"] = df_stab_5M['customer_city']\n",
    "customers3_5M[\"Product\"] = df_stab_5M['product_category_name_english']\n",
    "customers3_5M.reset_index(inplace=True)\n",
    "\n",
    "customers3_5M.reset_index(inplace=True)"
   ]
  },
  {
   "cell_type": "code",
   "execution_count": 52,
   "id": "f7317bef",
   "metadata": {},
   "outputs": [
    {
     "name": "stdout",
     "output_type": "stream",
     "text": [
      "Init: initializing centroids\n",
      "Init: initializing clusters\n",
      "Starting iterations...\n",
      "Run 1, iteration: 1/100, moves: 3930, cost: 470388.0\n",
      "Run 1, iteration: 2/100, moves: 13, cost: 470388.0\n"
     ]
    }
   ],
   "source": [
    "km_cao_5M = KModes(n_clusters=4, init=\"Cao\", n_init=1, verbose=1)\n",
    "km_cao_5M.fit(customers3_5M)\n",
    "label_ref_5M = km_cao_ref.predict(customers3_5M)\n",
    "label_5M = km_cao_5M.predict(customers3_5M)"
   ]
  },
  {
   "cell_type": "markdown",
   "id": "1ffe0fa4",
   "metadata": {},
   "source": [
    "**A 360 jours**"
   ]
  },
  {
   "cell_type": "code",
   "execution_count": 53,
   "id": "6448da84",
   "metadata": {},
   "outputs": [],
   "source": [
    "df_stab_6M = df[df['Recency'] < 360]"
   ]
  },
  {
   "cell_type": "code",
   "execution_count": 54,
   "id": "7743d9fb",
   "metadata": {},
   "outputs": [],
   "source": [
    "customers3_6M = pd.DataFrame()\n",
    "customers3_6M[\"Recency\"] = df_stab_6M['Recency_t']\n",
    "customers3_6M[\"Frequence\"] = df_stab_6M['Frequency_t']\n",
    "customers3_6M[\"Monetary\"] = df_stab_6M['Monetary_t']\n",
    "customers3_6M[\"Delivery\"] = df_stab_6M['Delivery_t']\n",
    "customers3_6M[\"Distance\"] = df_stab_6M['Distance_t']\n",
    "customers3_6M[\"Review\"] = df_stab_6M['review_score']\n",
    "customers3_6M[\"Riche\"] = df_stab_6M['m_quartile']\n",
    "customers3_6M[\"City\"] = df_stab_6M['customer_city']\n",
    "customers3_6M[\"Product\"] = df_stab_6M['product_category_name_english']\n",
    "customers3_6M.reset_index(inplace=True)\n",
    "\n",
    "customers3_6M.reset_index(inplace=True)"
   ]
  },
  {
   "cell_type": "code",
   "execution_count": 55,
   "id": "7ec47282",
   "metadata": {},
   "outputs": [
    {
     "name": "stdout",
     "output_type": "stream",
     "text": [
      "Init: initializing centroids\n",
      "Init: initializing clusters\n",
      "Starting iterations...\n",
      "Run 1, iteration: 1/100, moves: 4192, cost: 506389.0\n"
     ]
    }
   ],
   "source": [
    "km_cao_6M = KModes(n_clusters=4, init=\"Cao\", n_init=1, verbose=1)\n",
    "km_cao_6M.fit(customers3_6M)\n",
    "label_ref_6M = km_cao_ref.predict(customers3_6M)\n",
    "label_6M = km_cao_6M.predict(customers3_6M)"
   ]
  },
  {
   "cell_type": "markdown",
   "id": "f1f0fd08",
   "metadata": {},
   "source": [
    "**A 450 jours**"
   ]
  },
  {
   "cell_type": "code",
   "execution_count": 56,
   "id": "f9c981fa",
   "metadata": {},
   "outputs": [],
   "source": [
    "df_stab_9M = df[df['Recency'] < 450]"
   ]
  },
  {
   "cell_type": "code",
   "execution_count": 57,
   "id": "8782ea8c",
   "metadata": {},
   "outputs": [],
   "source": [
    "customers3_9M = pd.DataFrame()\n",
    "customers3_9M[\"Recency\"] = df_stab_9M['Recency_t']\n",
    "customers3_9M[\"Frequence\"] = df_stab_9M['Frequency_t']\n",
    "customers3_9M[\"Monetary\"] = df_stab_9M['Monetary_t']\n",
    "customers3_9M[\"Delivery\"] = df_stab_9M['Delivery_t']\n",
    "customers3_9M[\"Distance\"] = df_stab_9M['Distance_t']\n",
    "customers3_9M[\"Review\"] = df_stab_9M['review_score']\n",
    "customers3_9M[\"Riche\"] = df_stab_9M['m_quartile']\n",
    "customers3_9M[\"City\"] = df_stab_9M['customer_city']\n",
    "customers3_9M[\"Product\"] = df_stab_9M['product_category_name_english']\n",
    "customers3_9M.reset_index(inplace=True)\n",
    "\n",
    "customers3_9M.reset_index(inplace=True)"
   ]
  },
  {
   "cell_type": "code",
   "execution_count": 58,
   "id": "77a75478",
   "metadata": {},
   "outputs": [
    {
     "name": "stdout",
     "output_type": "stream",
     "text": [
      "Init: initializing centroids\n",
      "Init: initializing clusters\n",
      "Starting iterations...\n",
      "Run 1, iteration: 1/100, moves: 98, cost: 600451.0\n"
     ]
    }
   ],
   "source": [
    "km_cao_9M = KModes(n_clusters=4, init=\"Cao\", n_init=1, verbose=1)\n",
    "km_cao_9M.fit(customers3_9M)\n",
    "label_ref_9M = km_cao_ref.predict(customers3_9M)\n",
    "label_9M = km_cao_9M.predict(customers3_9M)"
   ]
  },
  {
   "cell_type": "markdown",
   "id": "d569549b",
   "metadata": {},
   "source": [
    "**A 540 jours**"
   ]
  },
  {
   "cell_type": "code",
   "execution_count": 59,
   "id": "b6c28448",
   "metadata": {},
   "outputs": [],
   "source": [
    "df_stab_12M = df[df['Recency'] < 540]"
   ]
  },
  {
   "cell_type": "code",
   "execution_count": 60,
   "id": "134baebd",
   "metadata": {},
   "outputs": [],
   "source": [
    "customers3_12M = pd.DataFrame()\n",
    "customers3_12M[\"Recency\"] = df_stab_12M['Recency_t']\n",
    "customers3_12M[\"Frequence\"] = df_stab_12M['Frequency_t']\n",
    "customers3_12M[\"Monetary\"] = df_stab_12M['Monetary_t']\n",
    "customers3_12M[\"Delivery\"] = df_stab_12M['Delivery_t']\n",
    "customers3_12M[\"Distance\"] = df_stab_12M['Distance_t']\n",
    "customers3_12M[\"Review\"] = df_stab_12M['review_score']\n",
    "customers3_12M[\"Riche\"] = df_stab_12M['m_quartile']\n",
    "customers3_12M[\"City\"] = df_stab_12M['customer_city']\n",
    "customers3_12M[\"Product\"] = df_stab_12M['product_category_name_english']\n",
    "customers3_12M.reset_index(inplace=True)\n",
    "\n",
    "customers3_12M.reset_index(inplace=True)"
   ]
  },
  {
   "cell_type": "code",
   "execution_count": 61,
   "id": "1893d95a",
   "metadata": {},
   "outputs": [
    {
     "name": "stdout",
     "output_type": "stream",
     "text": [
      "Init: initializing centroids\n",
      "Init: initializing clusters\n",
      "Starting iterations...\n",
      "Run 1, iteration: 1/100, moves: 5456, cost: 676391.0\n"
     ]
    }
   ],
   "source": [
    "km_cao_12M = KModes(n_clusters=4, init=\"Cao\", n_init=1, verbose=1)\n",
    "km_cao_12M.fit(customers3_12M)\n",
    "label_ref_12M = km_cao_ref.predict(customers3_12M)\n",
    "label_12M = km_cao_12M.predict(customers3_12M)"
   ]
  },
  {
   "cell_type": "code",
   "execution_count": 62,
   "id": "755d8e6e",
   "metadata": {},
   "outputs": [
    {
     "name": "stdout",
     "output_type": "stream",
     "text": [
      "ARI à 1 mois : 0.4198770004625332\n",
      "ARI à 2 mois : 0.3885504159538107\n",
      "ARI à 3 mois : 0.8774679573775709\n",
      "ARI à 4 mois : 0.8765319799352062\n",
      "ARI à 5 mois : 0.40141348418333495\n",
      "ARI à 6 mois : 0.4044358627870326\n",
      "ARI à 9 mois : -0.6783849730751313\n",
      "ARI à 12 mois : 0.3688649781118519\n"
     ]
    },
    {
     "name": "stderr",
     "output_type": "stream",
     "text": [
      "D:\\Users\\Damien\\anaconda3\\lib\\site-packages\\sklearn\\metrics\\cluster\\_supervised.py:389: RuntimeWarning: overflow encountered in longlong_scalars\n",
      "  return 2. * (tp * tn - fn * fp) / ((tp + fn) * (fn + tn) +\n",
      "D:\\Users\\Damien\\anaconda3\\lib\\site-packages\\sklearn\\metrics\\cluster\\_supervised.py:389: RuntimeWarning: overflow encountered in longlong_scalars\n",
      "  return 2. * (tp * tn - fn * fp) / ((tp + fn) * (fn + tn) +\n",
      "D:\\Users\\Damien\\anaconda3\\lib\\site-packages\\sklearn\\metrics\\cluster\\_supervised.py:390: RuntimeWarning: overflow encountered in longlong_scalars\n",
      "  (tp + fp) * (fp + tn))\n"
     ]
    }
   ],
   "source": [
    "print(\"ARI à 1 mois :\",\n",
    "      adjusted_rand_score(label_ref_1M,\n",
    "                          label_1M))\n",
    "print(\"ARI à 2 mois :\",\n",
    "      adjusted_rand_score(label_ref_2M,\n",
    "                          label_2M))\n",
    "print(\"ARI à 3 mois :\",\n",
    "      adjusted_rand_score(label_ref_3M,\n",
    "                          label_3M))\n",
    "print(\"ARI à 4 mois :\",\n",
    "      adjusted_rand_score(label_ref_4M,\n",
    "                          label_4M))\n",
    "print(\"ARI à 5 mois :\",\n",
    "      adjusted_rand_score(label_ref_5M,\n",
    "                          label_5M))\n",
    "print(\"ARI à 6 mois :\",\n",
    "      adjusted_rand_score(label_ref_6M,\n",
    "                          label_6M))\n",
    "print(\"ARI à 9 mois :\",\n",
    "      adjusted_rand_score(label_ref_9M,\n",
    "                          label_9M))\n",
    "print(\"ARI à 12 mois :\",\n",
    "      adjusted_rand_score(label_ref_12M,\n",
    "                          label_12M))"
   ]
  },
  {
   "cell_type": "code",
   "execution_count": 63,
   "id": "d0d7ab06",
   "metadata": {},
   "outputs": [],
   "source": [
    "data_ari2 = pd.DataFrame()\n",
    "data_ari2[\"Month\"] = [1, 2, 3, 4, 5, 6, 9]\n",
    "data_ari2[\"Adjusted Rand Index\"] = [0.41, 0.38, 0.88, 0.87, 0.40, 0.40, -0.67]"
   ]
  },
  {
   "cell_type": "code",
   "execution_count": 64,
   "id": "5eba140f",
   "metadata": {},
   "outputs": [
    {
     "data": {
      "image/png": "[encoded data removed]",
      "text/plain": [
       "<Figure size 720x720 with 1 Axes>"
      ]
     },
     "metadata": {},
     "output_type": "display_data"
    }
   ],
   "source": [
    "plt.figure(figsize=(10, 10))\n",
    "plt.plot(data_ari2[\"Month\"], data_ari2[\"Adjusted Rand Index\"])\n",
    "plt.title(\"EVOLUTION DE L'AJUSTED RAND INDEX\")\n",
    "plt.show()"
   ]
  }
 ],
 "metadata": {
  "kernelspec": {
   "display_name": "Python 3",
   "language": "python",
   "name": "python3"
  },
  "language_info": {
   "codemirror_mode": {
    "name": "ipython",
    "version": 3
   },
   "file_extension": ".py",
   "mimetype": "text/x-python",
   "name": "python",
   "nbconvert_exporter": "python",
   "pygments_lexer": "ipython3",
   "version": "3.8.8"
  }
 },
 "nbformat": 4,
 "nbformat_minor": 5
}
